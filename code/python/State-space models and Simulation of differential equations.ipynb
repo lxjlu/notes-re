{
 "cells": [
  {
   "cell_type": "code",
   "execution_count": 1,
   "metadata": {},
   "outputs": [],
   "source": [
    "import numpy as np\n",
    "import matplotlib.pyplot as plt"
   ]
  },
  {
   "cell_type": "code",
   "execution_count": 2,
   "metadata": {},
   "outputs": [],
   "source": [
    "# define the continuous-time system matrices\n",
    " \n",
    "A=np.matrix([[0, 1],[- 0.1, -0.05]])\n",
    "B=np.matrix([[0],[1]])\n",
    "C=np.matrix([[1, 0]])"
   ]
  },
  {
   "cell_type": "code",
   "execution_count": 6,
   "metadata": {},
   "outputs": [],
   "source": [
    "#define the number of time-samples used for the simulation and the sampling time for the discretization\n",
    "time=300\n",
    "sampling=0.5"
   ]
  },
  {
   "cell_type": "code",
   "execution_count": 4,
   "metadata": {},
   "outputs": [],
   "source": [
    "#define an initial state for simulation\n",
    "x0=np.random.rand(2,1)"
   ]
  },
  {
   "cell_type": "code",
   "execution_count": 7,
   "metadata": {},
   "outputs": [],
   "source": [
    "#define an input sequence for the simulation\n",
    "#input_seq=np.random.rand(time,1)\n",
    "input_seq=np.ones(time)\n",
    "#plt.plot(input_sequence)"
   ]
  },
  {
   "cell_type": "markdown",
   "metadata": {},
   "source": [
    "the following function simulates the state-space model using the backward Euler method\n",
    "\n",
    "the input parameters are:\n",
    "\n",
    "   -- A,B,C              - continuous time system matrices \n",
    "   \n",
    "   -- initial_state      - the initial state of the system \n",
    "   \n",
    "   -- time_steps         - the total number of simulation time steps \n",
    "   \n",
    "   -- sampling_perios    - the sampling period for the backward Euler discretization \n",
    "   \n",
    "this function returns the state sequence and the output sequence\n",
    "\n",
    "they are stored in the vectors Xd and Yd respectively"
   ]
  },
  {
   "cell_type": "code",
   "execution_count": 8,
   "metadata": {},
   "outputs": [],
   "source": [
    "def simulate(A,B,C,initial_state,input_sequence, time_steps,sampling_period):\n",
    "    from numpy.linalg import inv\n",
    "    I=np.identity(A.shape[0]) # this is an identity matrix\n",
    "    Ad=inv(I-sampling_period*A)\n",
    "    Bd=Ad*sampling_period*B\n",
    "    Xd=np.zeros(shape=(A.shape[0],time_steps+1))\n",
    "    Yd=np.zeros(shape=(C.shape[0],time_steps+1))\n",
    "     \n",
    "    for i in range(0,time_steps):\n",
    "        if i==0:\n",
    "            Xd[:,[i]]=initial_state\n",
    "            Yd[:,[i]]=C*initial_state\n",
    "            x=Ad*initial_state+Bd*input_sequence[i]\n",
    "        else:\n",
    "            Xd[:,[i]]=x\n",
    "            Yd[:,[i]]=C*x\n",
    "            x=Ad*x+Bd*input_sequence[i]\n",
    "    Xd[:,[-1]]=x\n",
    "    Yd[:,[-1]]=C*x\n",
    "    return Xd, Yd"
   ]
  },
  {
   "cell_type": "code",
   "execution_count": 9,
   "metadata": {},
   "outputs": [],
   "source": [
    "state,output=simulate(A,B,C,x0,input_seq, time ,sampling)  "
   ]
  },
  {
   "cell_type": "code",
   "execution_count": 10,
   "metadata": {},
   "outputs": [
    {
     "data": {
      "text/plain": [
       "Text(0.5, 1.0, 'System step response')"
      ]
     },
     "execution_count": 10,
     "metadata": {},
     "output_type": "execute_result"
    },
    {
     "data": {
      "image/png": "[encoded data removed]",
      "text/plain": [
       "<Figure size 432x288 with 1 Axes>"
      ]
     },
     "metadata": {
      "needs_background": "light"
     },
     "output_type": "display_data"
    }
   ],
   "source": [
    "plt.plot(output[0,:])\n",
    "plt.xlabel('Discrete time instant-k')\n",
    "plt.ylabel('Position- d')\n",
    "plt.title('System step response')"
   ]
  },
  {
   "cell_type": "code",
   "execution_count": null,
   "metadata": {},
   "outputs": [],
   "source": []
  }
 ],
 "metadata": {
  "kernelspec": {
   "display_name": "HRL",
   "language": "python",
   "name": "hrl"
  },
  "language_info": {
   "codemirror_mode": {
    "name": "ipython",
    "version": 3
   },
   "file_extension": ".py",
   "mimetype": "text/x-python",
   "name": "python",
   "nbconvert_exporter": "python",
   "pygments_lexer": "ipython3",
   "version": "3.7.7"
  }
 },
 "nbformat": 4,
 "nbformat_minor": 4
}
